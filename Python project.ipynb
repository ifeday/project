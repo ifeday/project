{
 "cells": [
  {
   "cell_type": "code",
   "execution_count": 4,
   "metadata": {},
   "outputs": [
    {
     "name": "stdout",
     "output_type": "stream",
     "text": [
      "available items:\n",
      "Suger\n",
      "Bread(sliced)\n",
      "Bread(unsliced)\n",
      "Egg\n",
      "Three\n",
      "crown(tin)\n",
      "peak\n",
      "milk(tin)\n",
      "peak\n",
      "milk(sachet)\n",
      "Bournvita(sachet)\n",
      "Milo(tin)\n",
      "peak\n",
      "milk(large\n",
      "sachet)\n",
      "custard(small\n",
      "sachet)\n",
      "cornflakes(samll\n",
      "sachet)\n",
      "Golden\n",
      "morn(small\n",
      "sachet)\n",
      "Detergent(small\n",
      "aerial)\n",
      "Detergent(Wawu)\n",
      "Corn\n",
      "flakes(big\n",
      "sachet)\n",
      "Golden\n",
      "morn\n",
      "(large\n",
      "sachet)\n",
      "sprite(small)\n",
      "Pepsi(small)\n",
      "Fanta(small)\n",
      "Lacasera(small)\n",
      "Sprite(big)\n",
      "Pepsi(big)\n",
      "Fanta(big)\n",
      "Lacasera(big)\n",
      "Coke(big)\n"
     ]
    }
   ],
   "source": [
    "my_str = \"Suger Bread(sliced) Bread(unsliced) Egg Three crown(tin) peak milk(tin) peak milk(sachet) Bournvita(sachet) Milo(tin) peak milk(large sachet) custard(small sachet) cornflakes(samll sachet) Golden morn(small sachet) Detergent(small aerial) Detergent(Wawu) Corn flakes(big sachet) Golden morn (large sachet) sprite(small) Pepsi(small) Fanta(small) Lacasera(small) Sprite(big) Pepsi(big) Fanta(big) Lacasera(big) Coke(big)\"\n",
    "words = my_str.split()\n",
    "words.sort\n",
    "print(\"available items:\")\n",
    "for words in words:\n",
    "    print (words)"
   ]
  },
  {
   "cell_type": "code",
   "execution_count": 6,
   "metadata": {},
   "outputs": [
    {
     "name": "stdout",
     "output_type": "stream",
     "text": [
      "corresponding prices:\n",
      "50\n",
      "200\n",
      "150\n",
      "50\n",
      "150\n",
      "120\n",
      "50\n",
      "50\n",
      "500\n",
      "700\n",
      "700\n",
      "100\n",
      "200\n",
      "150\n",
      "100\n",
      "120\n",
      "115\n",
      "200\n",
      "250\n",
      "750\n",
      "650\n",
      "80\n",
      "80\n",
      "80\n",
      "80\n",
      "150\n",
      "150\n",
      "150\n",
      "150\n",
      "150\n"
     ]
    }
   ],
   "source": [
    "my_str = \"50 200 150 50 150 120 50 50 500 700 700 100 200 150 100 120 115 200 250 750 650 80 80 80 80 150 150 150 150 150\"  \n",
    "words = my_str.split()\n",
    "words.sort\n",
    "print(\"corresponding prices:\")\n",
    "for words in words:\n",
    "    print (words)"
   ]
  },
  {
   "cell_type": "code",
   "execution_count": 3,
   "metadata": {},
   "outputs": [
    {
     "name": "stdout",
     "output_type": "stream",
     "text": [
      "corresponding quantities: 12\n"
     ]
    },
    {
     "ename": "NameError",
     "evalue": "name 'data' is not defined",
     "output_type": "error",
     "traceback": [
      "\u001b[1;31m---------------------------------------------------------------------------\u001b[0m",
      "\u001b[1;31mNameError\u001b[0m                                 Traceback (most recent call last)",
      "\u001b[1;32m<ipython-input-3-f853cac06087>\u001b[0m in \u001b[0;36m<module>\u001b[1;34m\u001b[0m\n\u001b[0;32m      1\u001b[0m \u001b[0mData\u001b[0m \u001b[1;33m=\u001b[0m \u001b[0mopen\u001b[0m\u001b[1;33m(\u001b[0m\u001b[1;34m\"data.txt\"\u001b[0m\u001b[1;33m,\u001b[0m \u001b[1;34m\"w\"\u001b[0m\u001b[1;33m)\u001b[0m\u001b[1;33m\u001b[0m\u001b[1;33m\u001b[0m\u001b[0m\n\u001b[0;32m      2\u001b[0m \u001b[0mstr\u001b[0m \u001b[1;33m(\u001b[0m\u001b[0minput\u001b[0m\u001b[1;33m(\u001b[0m\u001b[1;34m\"corresponding quantities: \"\u001b[0m\u001b[1;33m)\u001b[0m\u001b[1;33m)\u001b[0m\u001b[1;33m\u001b[0m\u001b[1;33m\u001b[0m\u001b[0m\n\u001b[1;32m----> 3\u001b[1;33m \u001b[0mdata\u001b[0m\u001b[1;33m.\u001b[0m\u001b[0mread\u001b[0m\u001b[1;33m(\u001b[0m\u001b[0mdata\u001b[0m\u001b[1;33m)\u001b[0m\u001b[1;33m\u001b[0m\u001b[1;33m\u001b[0m\u001b[0m\n\u001b[0m\u001b[0;32m      4\u001b[0m \u001b[0mdata\u001b[0m\u001b[1;33m.\u001b[0m\u001b[0mclose\u001b[0m\u001b[1;33m(\u001b[0m\u001b[1;33m)\u001b[0m\u001b[1;33m\u001b[0m\u001b[1;33m\u001b[0m\u001b[0m\n\u001b[0;32m      5\u001b[0m \u001b[1;33m\u001b[0m\u001b[0m\n",
      "\u001b[1;31mNameError\u001b[0m: name 'data' is not defined"
     ]
    }
   ],
   "source": [
    "Data = open(\"data.txt\", \"w\")\n",
    "str (input(\"corresponding quantities: \"))\n",
    "data.read(data)\n",
    "data.close()\n",
    "\n",
    "Data1 = open(\"data.txt\", \"r\")\n",
    "str (input(\"corresponding quantities: \"))\n",
    "data1.read(data)\n",
    "data1.close()"
   ]
  },
  {
   "cell_type": "code",
   "execution_count": null,
   "metadata": {},
   "outputs": [],
   "source": [
    "def sum(n):"
   ]
  },
  {
   "cell_type": "code",
   "execution_count": null,
   "metadata": {},
   "outputs": [],
   "source": []
  },
  {
   "cell_type": "code",
   "execution_count": null,
   "metadata": {},
   "outputs": [],
   "source": []
  }
 ],
 "metadata": {
  "kernelspec": {
   "display_name": "Python 3",
   "language": "python",
   "name": "python3"
  },
  "language_info": {
   "codemirror_mode": {
    "name": "ipython",
    "version": 3
   },
   "file_extension": ".py",
   "mimetype": "text/x-python",
   "name": "python",
   "nbconvert_exporter": "python",
   "pygments_lexer": "ipython3",
   "version": "3.7.6"
  }
 },
 "nbformat": 4,
 "nbformat_minor": 4
}
